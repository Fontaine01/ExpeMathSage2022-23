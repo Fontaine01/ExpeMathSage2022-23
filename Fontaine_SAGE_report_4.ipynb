{
 "cells": [
  {
   "cell_type": "markdown",
   "id": "psychological-terrorism",
   "metadata": {},
   "source": [
    "<h2> <center> DAY 5 : Report Experimental Math with SAGE_MATH </center></h2>"
   ]
  },
  {
   "cell_type": "markdown",
   "id": "moral-jenny",
   "metadata": {},
   "source": [
    "In the next few lines, we will report on what has been done in class from last Friday to today"
   ]
  },
  {
   "cell_type": "markdown",
   "id": "refined-today",
   "metadata": {},
   "source": [
    "Last Friday, we learned how to construct a linear, affine, polynomial and even trigonometric function using the commands : \n",
    "     @interact, plot(), slider()"
   ]
  },
  {
   "cell_type": "markdown",
   "id": "polyphonic-adams",
   "metadata": {},
   "source": [
    "@interact provides the user with a direct interface to the program. The user can change the value of a variable and see the result of the change instantly. \n",
    "\n",
    "The slider() command is used to define the variable to be modified. "
   ]
  },
  {
   "cell_type": "markdown",
   "id": "demanding-mathematics",
   "metadata": {},
   "source": [
    "Suppose for example that we want to represent on a same graph the functions $f_{ab}(x)= sin(ax+b)$ and the user has the possibility to interact by modifying the values of $a$ and $b$, the program is the following: "
   ]
  },
  {
   "cell_type": "code",
   "execution_count": 52,
   "id": "different-hardware",
   "metadata": {},
   "outputs": [
    {
     "data": {
      "application/vnd.jupyter.widget-view+json": {
       "model_id": "d563d2febb5a4891989c6f6bee6beefc"
      }
     },
     "metadata": {},
     "output_type": "display_data"
    }
   ],
   "source": [
    "@interact\n",
    "def _(a = slider(0, 20), b = slider(-5, 5)):\n",
    "    p = plot(sin(a*x + b), x, -pi, pi, ymin = -1, ymax = 1)\n",
    "    show(p)"
   ]
  },
  {
   "cell_type": "markdown",
   "id": "checked-fossil",
   "metadata": {},
   "source": [
    "    "
   ]
  },
  {
   "cell_type": "markdown",
   "id": "electric-analysis",
   "metadata": {},
   "source": [
    "Today, 24 October, we worked on the problem of the sum of two squares and on the problem of conductor of three integers. "
   ]
  },
  {
   "cell_type": "markdown",
   "id": "green-adelaide",
   "metadata": {},
   "source": [
    "In fact, The problem of sum of square is follows : What numbers can be written in the form $\\ n = a^2 + b^2? (a > 0, b > 0).$ \n",
    "\n",
    "My proposal algorithm to solve this problem is follow : "
   ]
  },
  {
   "cell_type": "code",
   "execution_count": 53,
   "id": "apparent-palestine",
   "metadata": {},
   "outputs": [],
   "source": [
    "def sum_square(n): \n",
    "    dict_num = { } \n",
    "    dictio = {}       #initialization of dictionary and liste\n",
    "    fon = []             \n",
    "    just2=[]\n",
    "    for item in range(1,n+1):\n",
    "        \n",
    "        for a in range(1,n+1):\n",
    "            \n",
    "            for b in range(1,n+1):\n",
    "                \n",
    "                if ((a*a + b*b) == item):   # here, we check if we can written the item such that the squqre of two number\n",
    "                    \n",
    "                    if (str(item) in list(dict_num.keys())):  # I check if our dictionary already contains the keys\n",
    "                        dict_num[str(item)].append((a,b))  \n",
    "                        \n",
    "                    else:\n",
    "                        dict_num.update({str(item):[(a,b)]}) \n",
    "                        \n",
    "                if ((a*a + b*b) != item):   \n",
    "                    \n",
    "                    if (str(item) in list(dictio.keys())):\n",
    "                        dictio[str(item)].append((a,b))    \n",
    "                    else:\n",
    "                        dictio.update({str(item):[(a,b)]}) \n",
    "                        \n",
    "    just = list(dict_num.keys())   \n",
    "    \n",
    "    res = [eval(i) for i in just]  # we use the eval() funtion to convert string and integer, reminder the keys \n",
    "                                   # of just liste are the string\n",
    "    for j in range(1,n+1):\n",
    "        if j in res:\n",
    "            continue\n",
    "        else:\n",
    "            just2.append(j) #The just2 list contains the integers that cannot be written as the sum of two squares\n",
    "            \n",
    "    frobenius_num=just2[-1]\n",
    "    \n",
    "    print('The largest number that cannot be written is {}'.format(frobenius_num))\n",
    "    \n",
    "    return dict_num, just2"
   ]
  },
  {
   "cell_type": "code",
   "execution_count": 54,
   "id": "starting-california",
   "metadata": {},
   "outputs": [
    {
     "name": "stdout",
     "output_type": "stream",
     "text": [
      "The largest number that cannot be written is 19\n"
     ]
    },
    {
     "data": {
      "text/plain": [
       "({'2': [(1, 1)],\n",
       "  '5': [(1, 2), (2, 1)],\n",
       "  '8': [(2, 2)],\n",
       "  '10': [(1, 3), (3, 1)],\n",
       "  '13': [(2, 3), (3, 2)],\n",
       "  '17': [(1, 4), (4, 1)],\n",
       "  '18': [(3, 3)],\n",
       "  '20': [(2, 4), (4, 2)]},\n",
       " [1, 3, 4, 6, 7, 9, 11, 12, 14, 15, 16, 19])"
      ]
     },
     "execution_count": 54,
     "metadata": {},
     "output_type": "execute_result"
    }
   ],
   "source": [
    "# let see the result of our function  for n = 20\n",
    "\n",
    "sum_square(20)    "
   ]
  },
  {
   "cell_type": "markdown",
   "id": "studied-advisory",
   "metadata": {},
   "source": [
    "    "
   ]
  },
  {
   "cell_type": "markdown",
   "id": "brilliant-microphone",
   "metadata": {},
   "source": [
    "For the conductor problem of three integer, our program is as follows:"
   ]
  },
  {
   "cell_type": "code",
   "execution_count": 57,
   "id": "endless-berry",
   "metadata": {},
   "outputs": [],
   "source": [
    "def conductor_3_num(n,a,b,c): #define function that takes n, a and b\n",
    "    dict_num = { }\n",
    "    dictio = {}\n",
    "    fon = []\n",
    "    just2=[]\n",
    "    for item in range(1,n+1):\n",
    "        \n",
    "        for x in range(1,n+1):\n",
    "            \n",
    "            for y in range(1,n+1):\n",
    "                \n",
    "                for z in range(1,n+1):\n",
    "                    \n",
    "                    if ((a*x + b*y +c*z) == item):     # here we test if item is written as a linear combination of a and b\n",
    "                        \n",
    "                        if (str(item) in list(dict_num.keys())):\n",
    "                            \n",
    "                            dict_num[str(item)].append((x,y,z)) # here, we test if the dictionary already contains\n",
    "                            \n",
    "                        else:\n",
    "                            dict_num.update({str(item):[(x,y,z)]}) # else just save the new item inside our dictionary\n",
    "                            \n",
    "                    if ((a*x + b*y +c*z) != item):  # here we test if item is written as a linear combination of a and b\n",
    "                        \n",
    "                        if (str(item) in list(dictio.keys())):\n",
    "                            \n",
    "                            dictio[str(item)].append((x,y,z)) # here, we test if the dictionary already contains\n",
    "                            \n",
    "                        else:\n",
    "                            dictio.update({str(item):[(x,y,z)]})  # else just save the new item inside our dictionary\n",
    "                            \n",
    "    just = list(dict_num.keys())\n",
    "    res = [eval(i) for i in just]\n",
    "    \n",
    "    for j in range(1,n+1):\n",
    "        if j in res:\n",
    "            continue\n",
    "        else:\n",
    "            just2.append(j)  # this liste contains the number can not be written\n",
    "    frobenius_num=just2[-1]\n",
    "    print('The frobenius number is {}'.format(frobenius_num))\n",
    "    print('The conductor number is {}'.format(frobenius_num +1))\n",
    "    return dict_num,just2"
   ]
  },
  {
   "cell_type": "code",
   "execution_count": 58,
   "id": "ethical-unemployment",
   "metadata": {},
   "outputs": [
    {
     "name": "stdout",
     "output_type": "stream",
     "text": [
      "The frobenius number is 14\n",
      "The conductor number is 15\n"
     ]
    },
    {
     "data": {
      "text/plain": [
       "({'12': [(1, 1, 1)],\n",
       "  '15': [(2, 1, 1)],\n",
       "  '16': [(1, 2, 1)],\n",
       "  '17': [(1, 1, 2)],\n",
       "  '18': [(3, 1, 1)],\n",
       "  '19': [(2, 2, 1)],\n",
       "  '20': [(1, 3, 1), (2, 1, 2)],\n",
       "  '21': [(1, 2, 2), (4, 1, 1)],\n",
       "  '22': [(1, 1, 3), (3, 2, 1)],\n",
       "  '23': [(2, 3, 1), (3, 1, 2)],\n",
       "  '24': [(1, 4, 1), (2, 2, 2), (5, 1, 1)],\n",
       "  '25': [(1, 3, 2), (2, 1, 3), (4, 2, 1)],\n",
       "  '26': [(1, 2, 3), (3, 3, 1), (4, 1, 2)],\n",
       "  '27': [(1, 1, 4), (2, 4, 1), (3, 2, 2), (6, 1, 1)],\n",
       "  '28': [(1, 5, 1), (2, 3, 2), (3, 1, 3), (5, 2, 1)],\n",
       "  '29': [(1, 4, 2), (2, 2, 3), (4, 3, 1), (5, 1, 2)],\n",
       "  '30': [(1, 3, 3), (2, 1, 4), (3, 4, 1), (4, 2, 2), (7, 1, 1)]},\n",
       " [1, 2, 3, 4, 5, 6, 7, 8, 9, 10, 11, 13, 14])"
      ]
     },
     "execution_count": 58,
     "metadata": {},
     "output_type": "execute_result"
    }
   ],
   "source": [
    "#let see the result\n",
    "\n",
    "conductor_3_num(30,3,4,5)"
   ]
  },
  {
   "cell_type": "code",
   "execution_count": null,
   "id": "nonprofit-knock",
   "metadata": {},
   "outputs": [],
   "source": []
  }
 ],
 "metadata": {
  "kernelspec": {
   "display_name": "SageMath 9.2",
   "language": "sage",
   "name": "sagemath"
  },
  "language_info": {
   "codemirror_mode": {
    "name": "ipython",
    "version": 3
   },
   "file_extension": ".py",
   "mimetype": "text/x-python",
   "name": "python",
   "nbconvert_exporter": "python",
   "pygments_lexer": "ipython3",
   "version": "3.9.2"
  }
 },
 "nbformat": 4,
 "nbformat_minor": 5
}
